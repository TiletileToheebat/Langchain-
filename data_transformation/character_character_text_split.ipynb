{
 "cells": [
  {
   "cell_type": "markdown",
   "metadata": {},
   "source": [
    "# CHARACTER-CHARACTER TEXT SPLITTER"
   ]
  },
  {
   "cell_type": "code",
   "execution_count": 7,
   "metadata": {},
   "outputs": [
    {
     "data": {
      "text/plain": [
       "[Document(metadata={'source': './data/speech.txt'}, page_content=\"Hello!\\nMy name is Toheebat, and I am excited to be a learner for this program, Generative AI.\\n\\n\\nI am a Data Scientist, aspiring Open-source Contributor, and Generative AI enthusiast with hands-on-project in the tech industry. For my career, Iâ€™ve looking forward to build innovative products, solve real-world problems, and empower over 5,000 individuals to grow into better versions of themselves. My work and insights will also connect me with an audience of over 10,000 followers across social media platforms.\\nLooking ahead, my vision is to create groundbreaking projects and support millionsâ€”if not billionsâ€”of people in achieving their goals and thriving in the tech industry.\\n\\n\\nIn this program, I am here to be guided of every step I take on the way, ensuring I have an unforgettable learning experience.\\nI'm embarking on this transformative journey with my peers!\")]"
      ]
     },
     "execution_count": 7,
     "metadata": {},
     "output_type": "execute_result"
    }
   ],
   "source": [
    "from langchain_community.document_loaders import TextLoader\n",
    "loader = TextLoader(\"./data/speech.txt\")\n",
    "text_doc = loader.load()\n",
    "text_doc"
   ]
  },
  {
   "cell_type": "code",
   "execution_count": 11,
   "metadata": {},
   "outputs": [
    {
     "data": {
      "text/plain": [
       "[Document(metadata={'source': './data/speech.txt'}, page_content='Hello!\\nMy name is Toheebat, and I am excited to be a learner for this program, Generative AI.\\n\\n\\nI am'),\n",
       " Document(metadata={'source': './data/speech.txt'}, page_content='enerative AI.\\n\\n\\nI am a Data Scientist, aspiring Open-source Contributor, and Generative AI enthusias'),\n",
       " Document(metadata={'source': './data/speech.txt'}, page_content='erative AI enthusiast with hands-on-project in the tech industry. For my career, Iâ€™ve looking forw'),\n",
       " Document(metadata={'source': './data/speech.txt'}, page_content='Iâ€™ve looking forward to build innovative products, solve real-world problems, and empower over 5,'),\n",
       " Document(metadata={'source': './data/speech.txt'}, page_content='and empower over 5,000 individuals to grow into better versions of themselves. My work and insights'),\n",
       " Document(metadata={'source': './data/speech.txt'}, page_content='My work and insights will also connect me with an audience of over 10,000 followers across social me'),\n",
       " Document(metadata={'source': './data/speech.txt'}, page_content='ers across social media platforms.\\nLooking ahead, my vision is to create groundbreaking projects and'),\n",
       " Document(metadata={'source': './data/speech.txt'}, page_content='reaking projects and support millionsâ€”if not billionsâ€”of people in achieving their goals and thr'),\n",
       " Document(metadata={'source': './data/speech.txt'}, page_content='their goals and thriving in the tech industry.\\n\\n\\nIn this program, I am here to be guided of every s'),\n",
       " Document(metadata={'source': './data/speech.txt'}, page_content=\"be guided of every step I take on the way, ensuring I have an unforgettable learning experience.\\nI'm\"),\n",
       " Document(metadata={'source': './data/speech.txt'}, page_content=\"ning experience.\\nI'm embarking on this transformative journey with my peers!\")]"
      ]
     },
     "execution_count": 11,
     "metadata": {},
     "output_type": "execute_result"
    }
   ],
   "source": [
    "from langchain_text_splitters import CharacterTextSplitter\n",
    "text_splitter = CharacterTextSplitter(separator=\"\", chunk_size=100, chunk_overlap=20)\n",
    "text_chunks = text_splitter.split_documents(text_doc)\n",
    "text_chunks"
   ]
  },
  {
   "cell_type": "code",
   "execution_count": 12,
   "metadata": {},
   "outputs": [
    {
     "data": {
      "text/plain": [
       "100"
      ]
     },
     "execution_count": 12,
     "metadata": {},
     "output_type": "execute_result"
    }
   ],
   "source": [
    "len(text_chunks[0].page_content)"
   ]
  },
  {
   "cell_type": "code",
   "execution_count": 16,
   "metadata": {},
   "outputs": [
    {
     "name": "stderr",
     "output_type": "stream",
     "text": [
      "Created a chunk of size 591, which is longer than the specified 100\n"
     ]
    },
    {
     "data": {
      "text/plain": [
       "[Document(metadata={}, page_content='Hello!\\nMy name is Toheebat, and I am excited to be a learner for this program, Generative AI.'),\n",
       " Document(metadata={}, page_content='I am a Data Scientist, aspiring Open-source Contributor, and Generative AI enthusiast with hands-on-project in the tech industry. For my career, Iâ€™m looking forward to build innovative products, solve real-world problems, and empower over 5,000 individuals to grow into better versions of themselves. My work and insights will also connect me with an audience of over 10,000 followers across social media platforms.\\nLooking ahead, my vision is to create groundbreaking projects and support millionsâ€”if not billionsâ€”of people in achieving their goals and thriving in the tech industry.'),\n",
       " Document(metadata={}, page_content=\"In this program, I am here to be guided of every step I take on the way, ensuring I have an unforgettable learning experience.\\nI'm embarking on this transformative journey with my peers!\")]"
      ]
     },
     "execution_count": 16,
     "metadata": {},
     "output_type": "execute_result"
    }
   ],
   "source": [
    "speech = \"\"\n",
    "with open(\"./data/speech.txt\", \"r\") as file:\n",
    "    speech = file.read()\n",
    "text_splitter1 = CharacterTextSplitter(chunk_size=100, chunk_overlap=20)\n",
    "text_chunks1 = text_splitter1.create_documents([speech])\n",
    "text_chunks1"
   ]
  }
 ],
 "metadata": {
  "kernelspec": {
   "display_name": "venv",
   "language": "python",
   "name": "python3"
  },
  "language_info": {
   "codemirror_mode": {
    "name": "ipython",
    "version": 3
   },
   "file_extension": ".py",
   "mimetype": "text/x-python",
   "name": "python",
   "nbconvert_exporter": "python",
   "pygments_lexer": "ipython3",
   "version": "3.10.16"
  }
 },
 "nbformat": 4,
 "nbformat_minor": 2
}
