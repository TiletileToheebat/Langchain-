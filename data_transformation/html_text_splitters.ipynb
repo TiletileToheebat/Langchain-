{
 "cells": [
  {
   "cell_type": "code",
   "execution_count": 1,
   "metadata": {},
   "outputs": [
    {
     "data": {
      "text/plain": [
       "[Document(metadata={}, page_content='Foo'),\n",
       " Document(metadata={'Header 1': 'Foo'}, page_content='Some intro text about Foo.  \\nBar main section Bar subsection 1 Bar subsection 2'),\n",
       " Document(metadata={'Header 1': 'Foo', 'Header 2': 'Bar main section'}, page_content='Some intro text about Bar.'),\n",
       " Document(metadata={'Header 1': 'Foo', 'Header 2': 'Bar main section', 'Header 3': 'Bar subsection 1'}, page_content='Some text about the first subtopic of Bar.'),\n",
       " Document(metadata={'Header 1': 'Foo', 'Header 2': 'Bar main section', 'Header 3': 'Bar subsection 2'}, page_content='Some text about the second subtopic of Bar.'),\n",
       " Document(metadata={'Header 1': 'Foo'}, page_content='Baz'),\n",
       " Document(metadata={'Header 1': 'Foo', 'Header 2': 'Baz'}, page_content='Some text about Baz'),\n",
       " Document(metadata={'Header 1': 'Foo'}, page_content='Some concluding text about Foo')]"
      ]
     },
     "execution_count": 1,
     "metadata": {},
     "output_type": "execute_result"
    }
   ],
   "source": [
    "from langchain_text_splitters import HTMLHeaderTextSplitter\n",
    "\n",
    "html_string = \"\"\"\n",
    "<!DOCTYPE html>\n",
    "<html>\n",
    "<body>\n",
    "    <div>\n",
    "        <h1>Foo</h1>\n",
    "        <p>Some intro text about Foo.</p>\n",
    "        <div>\n",
    "            <h2>Bar main section</h2>\n",
    "            <p>Some intro text about Bar.</p>\n",
    "            <h3>Bar subsection 1</h3>\n",
    "            <p>Some text about the first subtopic of Bar.</p>\n",
    "            <h3>Bar subsection 2</h3>\n",
    "            <p>Some text about the second subtopic of Bar.</p>\n",
    "        </div>\n",
    "        <div>\n",
    "            <h2>Baz</h2>\n",
    "            <p>Some text about Baz</p>\n",
    "        </div>\n",
    "        <br>\n",
    "        <p>Some concluding text about Foo</p>\n",
    "    </div>\n",
    "</body>\n",
    "</html>\n",
    "\"\"\"\n",
    "\n",
    "headers_to_split_on = [\n",
    "    (\"h1\", \"Header 1\"),\n",
    "    (\"h2\", \"Header 2\"),\n",
    "    (\"h3\", \"Header 3\"),\n",
    "]\n",
    "\n",
    "html_splitter = HTMLHeaderTextSplitter(headers_to_split_on=headers_to_split_on)\n",
    "html_header_splits = html_splitter.split_text(html_string)\n",
    "html_header_splits"
   ]
  },
  {
   "cell_type": "code",
   "execution_count": 4,
   "metadata": {},
   "outputs": [
    {
     "data": {
      "text/plain": [
       "[Document(metadata={}, page_content=\"+234 815 9109 065  \\nAdmissions  \\nStaff  \\nAcademic Staff Profiles Non-Academic Staff Profiles  \\nFaculties  \\nDepartments A-Z  \\nmailsupport@lasu.edu.ng  \\nThe University Faculties & Directorates Students ACADEMICS & RESEARCH Reach Us  \\nAbout UsLagos State University was established in 1983 by the enabling law of Lagos State with the vision of pursuing the advancement of learning and academic excellence. The university has been unrelenting in the pursuit of its mission of becoming a citadel of learning, a community with the trademark of excellence in teaching, research and service to humanity. READ MORE  \\nLagos State University Vision, Mission & Objectives LASU Anthem Our History Site Map VC's Official Website  \\nAdministration The Visitor Chancellor Governing Council The Vice Chancellor Other Principal Officers DVC Academic DVC Administration Registrar Bursar Librarian  \\nFaculties Arts Basic Medical Sciences Clinical Sciences Dentistry Education Engineering Law Management Sciences Science Social Sciences Transport  \\nSchools Agriculture Communications Post Graduate Studies Admin Departments Audit Bursary Counselling Library Students' Affairs  \\nDirectorates Career Development Center Centre for General Nigerian Studies Centre for Peace and Security Studies Centre for Planning Studies CESSED All Directorates ...  \\nVC's Office Academic Planning DICT Research Management & Innovation Special Intervention University Multimedia Centre Directorates and Units  \\nStudents Academic Calendar ACEITSE Alumni Registration BioData Registration CBT Exam Venue Allocator Certificate Processing Certificate Programmes Check Result Check Matric Number Cleared Students Counselling Conversion LACACA Conversion Result  \\nCourse Registration Course Registration Digital Forensic Prog. Diploma LACACA Downloadables eLearning eLibrary GNS Compendium GNS Workshop Certificate Hostel Allocation IIVC (Fresh) IIVC (Revalidation) Intra-University Transfer LASUCAS Certification ID Services  \\nUG Course Reg PG Course Reg Conversion Course Reg Sandwich Course Reg SPTS Course Reg Diploma Course Reg ENT Course Reg  \\nNew Applicants LASUES MopUp Exam LASU-GCS LASU Int'l School LASU Monitor LASUOER LASUPOTHER LASU Staff School LASU-TCRT Medical Screening NIN Submission ODLRI ODLRI Result Payment Services  \\nNew Applicants PG School/ACEITSE ENT Studies (Fresh) Sandwich/Diploma Certificate/Conversion Part-Time Epe/ODLRI Diploma in LG Admin LASU Int'l School LASU SPTS LASU Staff School LASU PDS UTME/DE Screening  \\nLASU Foundation (JUPEB) PG GCS PG LACACA PG Transcript Request Post-Graduate Studies Pre-Degree Studies(PDS) Print Old Course Form Sandwich LACACA SPTS LACACA Teaching Evaluation Transcript Self Module UG Documents Request UG LACACA Virtual Notice Board  \\nBulletin ACEITSE Regional Strategy Committee All News Events & Ceremonies LASU COVID-19 Update Webinar Lectures Stakeholders Ministry of Education NUC TETFUND Libraries Subscribed Library Portals  \\nA-Z All Departments All Faculties Directorates / Units / Divisions Portals Academic Staff Profile Page eCV/eAPER Portal eLeave Mgt System (LEMS) iSPADEMS LEMS Assessors PG-GCS Officers Staff Corner UG-GCS Officers  \\nJournals and Research Journals LASU-SDG Conference Publications Plagiarism Check Research Fair Activities Application FormBiological Children Data Request Downloadables Exam services LASU Virtual Tour Registrable Courses  \\nContact Us FAQs  \\nSearch  \\nThe University Faculties and Directorates Academics Student Admissions Reach Us  \\nAbout LASU About LASU About Us Vision & Mission Anthem Administration Administration The Visitor (Lagos State Governor) Chancellor Governing Council Vice Chancellor Deputy Vice Chancellor (Academic) Deputy Vice Chancellor (Administration) Registrar Bursar University Librarian VC's Official Website  \\nFaculties and Schools Faculties and Schools Agriculture Arts Basic Medical Sciences CESSED Clinical Sciences Communications Dentistry Education Engineering Law Library Management Sciences Post Graduate Studies Science Social Sciences Transport Administrative Departments Administrative Departments Audit Bursary Counselling Library Students' Affairs Directorates Directorates Career Development Center Centre for General Nigerian Studies Centre for Peace and Security Studies Centre for Planning Studies CESSED Counseling Unit External Systems Health Centres LASUDA Linkages, Partnerships & Collaborations Part-Time Studies Pre-Degree Studies Quality Assurance Radiation Sandwich Degree Programme Works & Physical Planning LASUCAS LASU SDG VC's Office VC's Office Academic Planning DICT Research Management & Innovation Special Intervention University Multimedia Centre  \\nStaff Corner Subscribed libraries LASU Virtual Tour Plagiarism Check GCS-Officers Registrable Courses Staff Temporary ID Card Biological Children iSPADEMS Data Request Exam services eCV/eAPER Portal Academic Staff Profiles  \\nNew Application New Application ENT Studies (Fresh) Sandwich/Diploma Certificate/Conversion Part-Time Epe Diploma in LG Admin IIVC (Fresh) IIVC (Revalidation) LASU Foundation (JUPEB) LASU Int'l School LASU SPTS LASU Staff School LASU PDS UTME/DE Screening PG School/ACEITSE Continuing Application Continuing Application Bio-Data Registration Post-Graduate Studies Medical Screening Part-Time Degrees Returning Students Returning Students Academic Calendar Course Registration Counseling Ready Set Work Part-Time Degrees LASU eVoting Check Result Teaching Evaluation LASU Monitor LASU Int'l School LASU Staff School Hostel Allocation ID Services NIN Submission ODLRI LASUOER Digital Forensic Prog. Diploma LACACA eLearning Check Matric Number Transcript Self Module CBT Exam Venue Allocator UG LACACA PG LACACA Sandwich LACACA SPTS Course Reg SPTS LACACA Conversion Course Reg. Conversion Result PG Course Reg. Diploma Course Reg. ENT Course Reg. GNS Compendium Schedule GNS Workshop Certificate Alumni Registration LASU-GCS e-Library Payment Services Conversion LACACA UG Documents Request LASUPOTHER PG GCS PG Transcript Request Others Others LASUES MopUp Exam Certificate Processing Downloadables Certifications Certifications LASUCAS Certification Cisco Certification Training  \\nContact Us FAQs  \\nFaculties Faculties\"),\n",
       " Document(metadata={'Header 1': 'Faculties', 'Header 3': 'Faculties'}, page_content='Home Faculties'),\n",
       " Document(metadata={}, page_content='VISITORS COUNTER  \\nToday  \\n24,552  \\n24 Jan 2025  \\nTotal  \\n66,093,050  \\nSince 18 Nov 2021  \\nEstablished in 1983 by the enabling law of Lagos State with the vision of pursuing the advancement of learning and academic excellence. The university has been unrelenting in the pursuit of its mission of becoming a citadel of learning, a community with the trademark of excellence in teaching, research and service to humanity.  \\nQuicklinks'),\n",
       " Document(metadata={'Header 3': 'Quicklinks'}, page_content='About us Check Result News Events Payment People [A -Z]  \\nResearch Publications Academic Staff Profile Non-Academic Staff Profile Postgraduate Students Undergraduate Students'),\n",
       " Document(metadata={}, page_content='School Support'),\n",
       " Document(metadata={'Header 3': 'School'}, page_content='CESSED ACEITSE College of Medicine Open & Distance Learning Skills Development & Entrepreneurship Academic Calendar'),\n",
       " Document(metadata={'Header 3': 'Support'}, page_content='FAQs Contact us Mail Support'),\n",
       " Document(metadata={}, page_content='GET IN TOUCH SITE MAP'),\n",
       " Document(metadata={'Header 3': 'GET IN TOUCH'}, page_content='\\xa0 Lagos State University, Ojo (Main campus), Lagos State, Nigeria.  \\n\\xa0 08151044243, 08159109065  \\n\\xa0 mailsupport@lasu.edu.ng  \\n\\xa0 LASU on Map (Geolocation)'),\n",
       " Document(metadata={'Header 3': 'SITE MAP'}, page_content='Site Map & Structure'),\n",
       " Document(metadata={}, page_content='Copyright © 2025 Lagos State University. All rights reserved.')]"
      ]
     },
     "execution_count": 4,
     "metadata": {},
     "output_type": "execute_result"
    }
   ],
   "source": [
    "url = \"https://lasu.edu.ng/home/faculties/\"\n",
    "\n",
    "headers_to_split_on = [\n",
    "    (\"h1\", \"Header 1\"),\n",
    "    (\"h2\", \"Header 2\"),\n",
    "    (\"h3\", \"Header 3\"),\n",
    "]\n",
    "\n",
    "html_splitter = HTMLHeaderTextSplitter(headers_to_split_on=headers_to_split_on)\n",
    "html_header_splits = html_splitter.split_text_from_url(url)\n",
    "html_header_splits"
   ]
  }
 ],
 "metadata": {
  "kernelspec": {
   "display_name": "venv",
   "language": "python",
   "name": "python3"
  },
  "language_info": {
   "codemirror_mode": {
    "name": "ipython",
    "version": 3
   },
   "file_extension": ".py",
   "mimetype": "text/x-python",
   "name": "python",
   "nbconvert_exporter": "python",
   "pygments_lexer": "ipython3",
   "version": "3.10.16"
  }
 },
 "nbformat": 4,
 "nbformat_minor": 2
}
