{
 "cells": [
  {
   "cell_type": "markdown",
   "metadata": {},
   "source": [
    "## Getting Started with Langchain and OpenAI\n",
    "\n",
    "Outline:\n",
    "- Setup Langchain, Langsmith and Langserve\n",
    "- Use the basic and common component of langchain, prompt template, models and output parser\n",
    "-Build a simple application with langhain\n",
    "-Trace the application\n",
    "- Serve the application with langserve"
   ]
  },
  {
   "cell_type": "markdown",
   "metadata": {},
   "source": []
  }
 ],
 "metadata": {
  "kernelspec": {
   "display_name": "venv",
   "language": "python",
   "name": "python3"
  },
  "language_info": {
   "name": "python",
   "version": "3.10.16"
  }
 },
 "nbformat": 4,
 "nbformat_minor": 2
}
